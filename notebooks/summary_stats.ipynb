{
 "cells": [
  {
   "cell_type": "code",
   "execution_count": 3,
   "id": "8de8b6b8",
   "metadata": {},
   "outputs": [
    {
     "name": "stderr",
     "output_type": "stream",
     "text": [
      "c:\\users\\jliu471\\appdata\\local\\programs\\python\\python39\\lib\\site-packages\\IPython\\core\\interactiveshell.py:3165: DtypeWarning: Columns (6) have mixed types.Specify dtype option on import or set low_memory=False.\n",
      "  has_raised = await self.run_ast_nodes(code_ast.body, cell_name,\n"
     ]
    },
    {
     "name": "stdout",
     "output_type": "stream",
     "text": [
      "               count          mean         std           min           25%  \\\n",
      "GAME_ID     653973.0  2.174458e+07  5688953.29  1.030000e+07  2.060121e+07   \n",
      "TEAM_ID     653973.0  1.610613e+09        8.65  1.610613e+09  1.610613e+09   \n",
      "PLAYER_ID   653973.0  3.816149e+05  7304335.77  1.500000e+01  2.441000e+03   \n",
      "FGM         546914.0  3.590000e+00        3.03  0.000000e+00  1.000000e+00   \n",
      "FGA         546914.0  7.900000e+00        5.67  0.000000e+00  3.000000e+00   \n",
      "FG_PCT      546914.0  4.200000e-01        0.25  0.000000e+00  2.600000e-01   \n",
      "FG3M        546914.0  7.700000e-01        1.22  0.000000e+00  0.000000e+00   \n",
      "FG3A        546914.0  2.170000e+00        2.56  0.000000e+00  0.000000e+00   \n",
      "FG3_PCT     546914.0  2.000000e-01        0.29  0.000000e+00  0.000000e+00   \n",
      "FTM         546914.0  1.730000e+00        2.35  0.000000e+00  0.000000e+00   \n",
      "FTA         546914.0  2.290000e+00        2.89  0.000000e+00  0.000000e+00   \n",
      "FT_PCT      546914.0  4.400000e-01        0.43  0.000000e+00  0.000000e+00   \n",
      "OREB        546914.0  1.030000e+00        1.40  0.000000e+00  0.000000e+00   \n",
      "DREB        546914.0  3.030000e+00        2.69  0.000000e+00  1.000000e+00   \n",
      "REB         546914.0  4.060000e+00        3.49  0.000000e+00  1.000000e+00   \n",
      "AST         546914.0  2.100000e+00        2.48  0.000000e+00  0.000000e+00   \n",
      "STL         546914.0  7.200000e-01        0.97  0.000000e+00  0.000000e+00   \n",
      "BLK         546914.0  4.600000e-01        0.86  0.000000e+00  0.000000e+00   \n",
      "TO          546914.0  1.320000e+00        1.40  0.000000e+00  0.000000e+00   \n",
      "PF          546914.0  2.000000e+00        1.50  0.000000e+00  1.000000e+00   \n",
      "PTS         546914.0  9.680000e+00        8.07  0.000000e+00  3.000000e+00   \n",
      "PLUS_MINUS  523253.0 -0.000000e+00       10.66 -5.700000e+01 -7.000000e+00   \n",
      "\n",
      "                     50%           75%           max  \n",
      "GAME_ID     2.120077e+07  2.170103e+07  5.210021e+07  \n",
      "TEAM_ID     1.610613e+09  1.610613e+09  1.610613e+09  \n",
      "PLAYER_ID   2.011620e+05  2.031580e+05  1.962938e+09  \n",
      "FGM         3.000000e+00  5.000000e+00  2.800000e+01  \n",
      "FGA         7.000000e+00  1.100000e+01  5.000000e+01  \n",
      "FG_PCT      4.300000e-01  5.700000e-01  1.000000e+00  \n",
      "FG3M        0.000000e+00  1.000000e+00  1.400000e+01  \n",
      "FG3A        1.000000e+00  4.000000e+00  2.400000e+01  \n",
      "FG3_PCT     0.000000e+00  3.800000e-01  1.000000e+00  \n",
      "FTM         1.000000e+00  3.000000e+00  2.600000e+01  \n",
      "FTA         2.000000e+00  4.000000e+00  3.900000e+01  \n",
      "FT_PCT      5.000000e-01  9.100000e-01  1.000000e+00  \n",
      "OREB        1.000000e+00  2.000000e+00  1.800000e+01  \n",
      "DREB        2.000000e+00  4.000000e+00  2.500000e+01  \n",
      "REB         3.000000e+00  6.000000e+00  3.100000e+01  \n",
      "AST         1.000000e+00  3.000000e+00  2.500000e+01  \n",
      "STL         0.000000e+00  1.000000e+00  1.000000e+01  \n",
      "BLK         0.000000e+00  1.000000e+00  1.200000e+01  \n",
      "TO          1.000000e+00  2.000000e+00  1.200000e+01  \n",
      "PF          2.000000e+00  3.000000e+00  1.500000e+01  \n",
      "PTS         8.000000e+00  1.400000e+01  8.100000e+01  \n",
      "PLUS_MINUS  0.000000e+00  6.000000e+00  5.700000e+01  \n"
     ]
    }
   ],
   "source": [
    "import pandas as pd\n",
    "\n",
    "# Read the dataset from a CSV file\n",
    "df = pd.read_csv('../data/raw/game_detials_0422/games_details.csv')\n",
    "\n",
    "# Generate summary statistics, round to 2 decimal places, and transpose the result\n",
    "summary = df.describe().round(2).transpose()\n",
    "\n",
    "# Save the summary statistics to a new CSV file\n",
    "summary.to_csv('summary_ori.csv')\n",
    "\n",
    "# Print the summary statistics\n",
    "print(summary)\n"
   ]
  },
  {
   "cell_type": "code",
   "execution_count": 4,
   "id": "8edb0af5",
   "metadata": {},
   "outputs": [],
   "source": [
    "df_final_ps = pd.read_csv('../data/final/final_game_features_ps.csv')\n",
    "df_final_pca = pd.read_csv('../data/final/ps_pca.csv')"
   ]
  },
  {
   "cell_type": "code",
   "execution_count": 5,
   "id": "5194cb23",
   "metadata": {},
   "outputs": [],
   "source": [
    "# Generate summary statistics, round to 2 decimal places, and transpose the result\n",
    "summary_ps = df_final_ps.describe().round(2).transpose()\n",
    "\n",
    "# Save the summary statistics to a new CSV file\n",
    "summary_ps.to_csv('summary_ps.csv')\n",
    "# Generate summary statistics, round to 2 decimal places, and transpose the result\n",
    "summary_pca = df_final_pca.describe().round(2).transpose()\n",
    "\n",
    "# Save the summary statistics to a new CSV file\n",
    "summary_pca.to_csv('summary_pca.csv')"
   ]
  },
  {
   "cell_type": "code",
   "execution_count": null,
   "id": "316aa057",
   "metadata": {},
   "outputs": [],
   "source": []
  }
 ],
 "metadata": {
  "kernelspec": {
   "display_name": "Python 3",
   "language": "python",
   "name": "python3"
  },
  "language_info": {
   "codemirror_mode": {
    "name": "ipython",
    "version": 3
   },
   "file_extension": ".py",
   "mimetype": "text/x-python",
   "name": "python",
   "nbconvert_exporter": "python",
   "pygments_lexer": "ipython3",
   "version": "3.9.2"
  }
 },
 "nbformat": 4,
 "nbformat_minor": 5
}
