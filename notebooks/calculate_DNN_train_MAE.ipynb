{
 "cells": [
  {
   "cell_type": "code",
   "execution_count": 5,
   "id": "2bb649be",
   "metadata": {},
   "outputs": [],
   "source": [
    "import pandas as pd\n",
    "from sklearn.metrics import mean_absolute_error"
   ]
  },
  {
   "cell_type": "code",
   "execution_count": 4,
   "id": "ee87d35d",
   "metadata": {},
   "outputs": [
    {
     "data": {
      "text/html": [
       "<div>\n",
       "<style scoped>\n",
       "    .dataframe tbody tr th:only-of-type {\n",
       "        vertical-align: middle;\n",
       "    }\n",
       "\n",
       "    .dataframe tbody tr th {\n",
       "        vertical-align: top;\n",
       "    }\n",
       "\n",
       "    .dataframe thead th {\n",
       "        text-align: right;\n",
       "    }\n",
       "</style>\n",
       "<table border=\"1\" class=\"dataframe\">\n",
       "  <thead>\n",
       "    <tr style=\"text-align: right;\">\n",
       "      <th></th>\n",
       "      <th>GAME_ID</th>\n",
       "      <th>GAME_DATE_EST</th>\n",
       "      <th>team_id</th>\n",
       "      <th>oppo_id</th>\n",
       "      <th>PTS_team</th>\n",
       "      <th>pointspread</th>\n",
       "      <th>loc</th>\n",
       "      <th>pointspread_pred</th>\n",
       "    </tr>\n",
       "  </thead>\n",
       "  <tbody>\n",
       "    <tr>\n",
       "      <th>0</th>\n",
       "      <td>21900499</td>\n",
       "      <td>12/31/2019</td>\n",
       "      <td>1610612758</td>\n",
       "      <td>1610612746</td>\n",
       "      <td>87</td>\n",
       "      <td>-18</td>\n",
       "      <td>1</td>\n",
       "      <td>[-2.2724385]</td>\n",
       "    </tr>\n",
       "    <tr>\n",
       "      <th>1</th>\n",
       "      <td>21900489</td>\n",
       "      <td>12/29/2019</td>\n",
       "      <td>1610612758</td>\n",
       "      <td>1610612743</td>\n",
       "      <td>115</td>\n",
       "      <td>-5</td>\n",
       "      <td>0</td>\n",
       "      <td>[-7.0925713]</td>\n",
       "    </tr>\n",
       "    <tr>\n",
       "      <th>2</th>\n",
       "      <td>21900483</td>\n",
       "      <td>12/28/2019</td>\n",
       "      <td>1610612758</td>\n",
       "      <td>1610612756</td>\n",
       "      <td>110</td>\n",
       "      <td>-2</td>\n",
       "      <td>1</td>\n",
       "      <td>[5.38436]</td>\n",
       "    </tr>\n",
       "    <tr>\n",
       "      <th>3</th>\n",
       "      <td>21900464</td>\n",
       "      <td>12/26/2019</td>\n",
       "      <td>1610612758</td>\n",
       "      <td>1610612750</td>\n",
       "      <td>104</td>\n",
       "      <td>-1</td>\n",
       "      <td>1</td>\n",
       "      <td>[5.943371]</td>\n",
       "    </tr>\n",
       "    <tr>\n",
       "      <th>4</th>\n",
       "      <td>21900453</td>\n",
       "      <td>12/23/2019</td>\n",
       "      <td>1610612758</td>\n",
       "      <td>1610612745</td>\n",
       "      <td>104</td>\n",
       "      <td>-9</td>\n",
       "      <td>1</td>\n",
       "      <td>[-6.1035495]</td>\n",
       "    </tr>\n",
       "    <tr>\n",
       "      <th>...</th>\n",
       "      <td>...</td>\n",
       "      <td>...</td>\n",
       "      <td>...</td>\n",
       "      <td>...</td>\n",
       "      <td>...</td>\n",
       "      <td>...</td>\n",
       "      <td>...</td>\n",
       "      <td>...</td>\n",
       "    </tr>\n",
       "    <tr>\n",
       "      <th>39927</th>\n",
       "      <td>20400007</td>\n",
       "      <td>11/3/2004</td>\n",
       "      <td>1610612738</td>\n",
       "      <td>1610612755</td>\n",
       "      <td>95</td>\n",
       "      <td>-3</td>\n",
       "      <td>1</td>\n",
       "      <td>[1.3168795]</td>\n",
       "    </tr>\n",
       "    <tr>\n",
       "      <th>39928</th>\n",
       "      <td>40300104</td>\n",
       "      <td>4/25/2004</td>\n",
       "      <td>1610612738</td>\n",
       "      <td>1610612754</td>\n",
       "      <td>75</td>\n",
       "      <td>-15</td>\n",
       "      <td>1</td>\n",
       "      <td>[-7.0085316]</td>\n",
       "    </tr>\n",
       "    <tr>\n",
       "      <th>39929</th>\n",
       "      <td>40300103</td>\n",
       "      <td>4/23/2004</td>\n",
       "      <td>1610612738</td>\n",
       "      <td>1610612754</td>\n",
       "      <td>85</td>\n",
       "      <td>-23</td>\n",
       "      <td>1</td>\n",
       "      <td>[-5.858843]</td>\n",
       "    </tr>\n",
       "    <tr>\n",
       "      <th>39930</th>\n",
       "      <td>40300102</td>\n",
       "      <td>4/20/2004</td>\n",
       "      <td>1610612738</td>\n",
       "      <td>1610612754</td>\n",
       "      <td>90</td>\n",
       "      <td>-13</td>\n",
       "      <td>0</td>\n",
       "      <td>[-9.452932]</td>\n",
       "    </tr>\n",
       "    <tr>\n",
       "      <th>39931</th>\n",
       "      <td>40300101</td>\n",
       "      <td>4/17/2004</td>\n",
       "      <td>1610612738</td>\n",
       "      <td>1610612754</td>\n",
       "      <td>88</td>\n",
       "      <td>-16</td>\n",
       "      <td>0</td>\n",
       "      <td>[-10.079214]</td>\n",
       "    </tr>\n",
       "  </tbody>\n",
       "</table>\n",
       "<p>39932 rows × 8 columns</p>\n",
       "</div>"
      ],
      "text/plain": [
       "        GAME_ID GAME_DATE_EST     team_id     oppo_id  PTS_team  pointspread  \\\n",
       "0      21900499    12/31/2019  1610612758  1610612746        87          -18   \n",
       "1      21900489    12/29/2019  1610612758  1610612743       115           -5   \n",
       "2      21900483    12/28/2019  1610612758  1610612756       110           -2   \n",
       "3      21900464    12/26/2019  1610612758  1610612750       104           -1   \n",
       "4      21900453    12/23/2019  1610612758  1610612745       104           -9   \n",
       "...         ...           ...         ...         ...       ...          ...   \n",
       "39927  20400007     11/3/2004  1610612738  1610612755        95           -3   \n",
       "39928  40300104     4/25/2004  1610612738  1610612754        75          -15   \n",
       "39929  40300103     4/23/2004  1610612738  1610612754        85          -23   \n",
       "39930  40300102     4/20/2004  1610612738  1610612754        90          -13   \n",
       "39931  40300101     4/17/2004  1610612738  1610612754        88          -16   \n",
       "\n",
       "       loc pointspread_pred  \n",
       "0        1     [-2.2724385]  \n",
       "1        0     [-7.0925713]  \n",
       "2        1        [5.38436]  \n",
       "3        1       [5.943371]  \n",
       "4        1     [-6.1035495]  \n",
       "...    ...              ...  \n",
       "39927    1      [1.3168795]  \n",
       "39928    1     [-7.0085316]  \n",
       "39929    1      [-5.858843]  \n",
       "39930    0      [-9.452932]  \n",
       "39931    0     [-10.079214]  \n",
       "\n",
       "[39932 rows x 8 columns]"
      ]
     },
     "execution_count": 4,
     "metadata": {},
     "output_type": "execute_result"
    }
   ],
   "source": [
    "DNN_minmax = pd.read_csv('../predictions/predictions_20_22_test_game/all_before_20/feature_selected_DNN_minmax_prediction_train.csv')\n",
    "DNN_minmax"
   ]
  },
  {
   "cell_type": "code",
   "execution_count": 10,
   "id": "28666980",
   "metadata": {},
   "outputs": [
    {
     "data": {
      "text/plain": [
       "0        -2.2724385\n",
       "1        -7.0925713\n",
       "2           5.38436\n",
       "3          5.943371\n",
       "4        -6.1035495\n",
       "            ...    \n",
       "39927     1.3168795\n",
       "39928    -7.0085316\n",
       "39929     -5.858843\n",
       "39930     -9.452932\n",
       "39931    -10.079214\n",
       "Name: pointspread_pred, Length: 39932, dtype: object"
      ]
     },
     "execution_count": 10,
     "metadata": {},
     "output_type": "execute_result"
    }
   ],
   "source": [
    "DNN_minmax['pointspread_pred'] = DNN_minmax['pointspread_pred'].str.strip('[]')\n",
    "DNN_minmax['pointspread_pred']"
   ]
  },
  {
   "cell_type": "code",
   "execution_count": 11,
   "id": "bbf33564",
   "metadata": {},
   "outputs": [
    {
     "data": {
      "text/plain": [
       "9.403169842294368"
      ]
     },
     "execution_count": 11,
     "metadata": {},
     "output_type": "execute_result"
    }
   ],
   "source": [
    "mean_absolute_error(DNN_minmax['pointspread'], DNN_minmax['pointspread_pred'])"
   ]
  },
  {
   "cell_type": "code",
   "execution_count": 12,
   "id": "fb2239ce",
   "metadata": {},
   "outputs": [],
   "source": [
    "DNN_standard = pd.read_csv('../predictions/predictions_20_22_test_game/all_before_20/feature_selected_DNN_standard_prediction_train.csv')"
   ]
  },
  {
   "cell_type": "code",
   "execution_count": 13,
   "id": "8fc49fe0",
   "metadata": {},
   "outputs": [
    {
     "data": {
      "text/plain": [
       "9.30398515745097"
      ]
     },
     "execution_count": 13,
     "metadata": {},
     "output_type": "execute_result"
    }
   ],
   "source": [
    "DNN_standard['pointspread_pred'] = DNN_standard['pointspread_pred'].str.strip('[]')\n",
    "DNN_standard['pointspread_pred']\n",
    "mean_absolute_error(DNN_standard['pointspread'], DNN_standard['pointspread_pred'])"
   ]
  },
  {
   "cell_type": "code",
   "execution_count": 14,
   "id": "6aa0aa9e",
   "metadata": {},
   "outputs": [],
   "source": [
    "DNN_minmax_PCA = pd.read_csv('../predictions/predictions_20_22_test_game/all_before_20/PCA_DNN_minmax_prediction_train.csv')"
   ]
  },
  {
   "cell_type": "code",
   "execution_count": 15,
   "id": "a60d3195",
   "metadata": {},
   "outputs": [
    {
     "data": {
      "text/plain": [
       "9.357903868691526"
      ]
     },
     "execution_count": 15,
     "metadata": {},
     "output_type": "execute_result"
    }
   ],
   "source": [
    "DNN_minmax_PCA['pointspread_pred'] = DNN_minmax_PCA['pointspread_pred'].str.strip('[]')\n",
    "DNN_minmax_PCA['pointspread_pred']\n",
    "mean_absolute_error(DNN_minmax_PCA['pointspread'], DNN_minmax_PCA['pointspread_pred'])"
   ]
  },
  {
   "cell_type": "code",
   "execution_count": 16,
   "id": "0982fbf3",
   "metadata": {},
   "outputs": [],
   "source": [
    "DNN_standard_PCA = pd.read_csv('../predictions/predictions_20_22_test_game/all_before_20/PCA_DNN_standard_prediction_train.csv')"
   ]
  },
  {
   "cell_type": "code",
   "execution_count": 17,
   "id": "3db4aaa7",
   "metadata": {},
   "outputs": [
    {
     "data": {
      "text/plain": [
       "9.336650319443555"
      ]
     },
     "execution_count": 17,
     "metadata": {},
     "output_type": "execute_result"
    }
   ],
   "source": [
    "DNN_standard_PCA['pointspread_pred'] = DNN_standard_PCA['pointspread_pred'].str.strip('[]')\n",
    "DNN_standard_PCA['pointspread_pred']\n",
    "mean_absolute_error(DNN_standard_PCA['pointspread'], DNN_standard_PCA['pointspread_pred'])"
   ]
  },
  {
   "cell_type": "code",
   "execution_count": null,
   "id": "2066f044",
   "metadata": {},
   "outputs": [],
   "source": []
  }
 ],
 "metadata": {
  "kernelspec": {
   "display_name": "Python 3",
   "language": "python",
   "name": "python3"
  },
  "language_info": {
   "codemirror_mode": {
    "name": "ipython",
    "version": 3
   },
   "file_extension": ".py",
   "mimetype": "text/x-python",
   "name": "python",
   "nbconvert_exporter": "python",
   "pygments_lexer": "ipython3",
   "version": "3.9.2"
  }
 },
 "nbformat": 4,
 "nbformat_minor": 5
}
